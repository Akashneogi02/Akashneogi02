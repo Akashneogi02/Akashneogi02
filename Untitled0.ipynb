{
  "nbformat": 4,
  "nbformat_minor": 0,
  "metadata": {
    "colab": {
      "provenance": [],
      "authorship_tag": "ABX9TyPVgEtNQkB1QUsguuvMVNH6",
      "include_colab_link": true
    },
    "kernelspec": {
      "name": "python3",
      "display_name": "Python 3"
    },
    "language_info": {
      "name": "python"
    }
  },
  "cells": [
    {
      "cell_type": "markdown",
      "metadata": {
        "id": "view-in-github",
        "colab_type": "text"
      },
      "source": [
        "<a href=\"https://colab.research.google.com/github/Akashneogi02/Akashneogi02/blob/main/Untitled0.ipynb\" target=\"_parent\"><img src=\"https://colab.research.google.com/assets/colab-badge.svg\" alt=\"Open In Colab\"/></a>"
      ]
    },
    {
      "cell_type": "code",
      "execution_count": 1,
      "metadata": {
        "colab": {
          "base_uri": "https://localhost:8080/"
        },
        "id": "E1BqIj_t5LWo",
        "outputId": "1ea136cf-8bbf-4770-c0f9-04510bc5adeb"
      },
      "outputs": [
        {
          "output_type": "stream",
          "name": "stdout",
          "text": [
            "✅ CSV data loaded into SQLite successfully.\n"
          ]
        }
      ],
      "source": [
        "import pandas as pd\n",
        "import sqlite3\n",
        "\n",
        "# Connect to SQLite DB (it will create a new one if not exists)\n",
        "conn = sqlite3.connect('food_wastage.db')\n",
        "cursor = conn.cursor()\n",
        "\n",
        "# Load CSVs\n",
        "providers_df = pd.read_csv('/content/providers_data.csv')\n",
        "receivers_df = pd.read_csv('/content/receivers_data.csv')\n",
        "food_df = pd.read_csv('/content/food_listings_data.csv')\n",
        "claims_df = pd.read_csv('/content/claims_data.csv')\n",
        "\n",
        "# Create tables (ensure tables match schema)\n",
        "cursor.execute('''\n",
        "CREATE TABLE IF NOT EXISTS Providers (\n",
        "    Provider_ID INTEGER PRIMARY KEY,\n",
        "    Name TEXT,\n",
        "    Type TEXT,\n",
        "    Address TEXT,\n",
        "    City TEXT,\n",
        "    Contact TEXT\n",
        ")''')\n",
        "\n",
        "cursor.execute('''\n",
        "CREATE TABLE IF NOT EXISTS Receivers (\n",
        "    Receiver_ID INTEGER PRIMARY KEY,\n",
        "    Name TEXT,\n",
        "    Type TEXT,\n",
        "    City TEXT,\n",
        "    Contact TEXT\n",
        ")''')\n",
        "\n",
        "cursor.execute('''\n",
        "CREATE TABLE IF NOT EXISTS Food_Listings (\n",
        "    Food_ID INTEGER PRIMARY KEY,\n",
        "    Food_Name TEXT,\n",
        "    Quantity INTEGER,\n",
        "    Expiry_Date DATE,\n",
        "    Provider_ID INTEGER,\n",
        "    Provider_Type TEXT,\n",
        "    Location TEXT,\n",
        "    Food_Type TEXT,\n",
        "    Meal_Type TEXT,\n",
        "    FOREIGN KEY (Provider_ID) REFERENCES Providers (Provider_ID)\n",
        ")''')\n",
        "\n",
        "cursor.execute('''\n",
        "CREATE TABLE IF NOT EXISTS Claims (\n",
        "    Claim_ID INTEGER PRIMARY KEY,\n",
        "    Food_ID INTEGER,\n",
        "    Receiver_ID INTEGER,\n",
        "    Status TEXT,\n",
        "    Timestamp TEXT,\n",
        "    FOREIGN KEY (Food_ID) REFERENCES Food_Listings (Food_ID),\n",
        "    FOREIGN KEY (Receiver_ID) REFERENCES Receivers (Receiver_ID)\n",
        ")''')\n",
        "\n",
        "# Load data into tables\n",
        "providers_df.to_sql('Providers', conn, if_exists='replace', index=False)\n",
        "receivers_df.to_sql('Receivers', conn, if_exists='replace', index=False)\n",
        "food_df.to_sql('Food_Listings', conn, if_exists='replace', index=False)\n",
        "claims_df.to_sql('Claims', conn, if_exists='replace', index=False)\n",
        "\n",
        "conn.commit()\n",
        "conn.close()\n",
        "\n",
        "print(\"✅ CSV data loaded into SQLite successfully.\")\n"
      ]
    }
  ]
}